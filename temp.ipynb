{
 "cells": [
  {
   "cell_type": "code",
   "execution_count": null,
   "metadata": {},
   "outputs": [],
   "source": [
    "import pandas as pd\n",
    "import matplotlib.pyplot as plt\n",
    "import matplotlib.ticker as ticker\n",
    "import matplotlib.dates as mdates"
   ]
  },
  {
   "cell_type": "code",
   "execution_count": null,
   "metadata": {},
   "outputs": [],
   "source": [
    "path=r'C:\\Users\\giono\\Desktop\\UNIVERSITA\\programmazione\\python\\dati\\temperatura\\temperatura.xlsx'\n",
    "df=pd.read_excel(path,usecols='B:F')\n",
    "df"
   ]
  },
  {
   "cell_type": "code",
   "execution_count": null,
   "metadata": {},
   "outputs": [],
   "source": [
    "df.info()"
   ]
  },
  {
   "cell_type": "code",
   "execution_count": null,
   "metadata": {},
   "outputs": [],
   "source": [
    "df['Time'] = df['Time'].str.strip()"
   ]
  },
  {
   "cell_type": "code",
   "execution_count": null,
   "metadata": {},
   "outputs": [],
   "source": [
    "# Convertire la colonna 'Time' in datetime\n",
    "df['Time'] = pd.to_datetime(df['Time'], format='%d/%m/%y %H:%M:%S', dayfirst=True)\n",
    "df['TK1 Temperature(°C)'] = pd.to_numeric(df['TK1 Temperature(°C)'], errors='coerce')\n",
    "df['TK2 Temperature(°C)'] = pd.to_numeric(df['TK2 Temperature(°C)'], errors='coerce')\n",
    "\n"
   ]
  },
  {
   "cell_type": "code",
   "execution_count": null,
   "metadata": {},
   "outputs": [],
   "source": [
    "# Verificare la conversione\n",
    "print(df['Time'].dtypes)\n",
    "print(df['TK1 Temperature(°C)'].dtypes)\n",
    "print(df['TK2 Temperature(°C)'].dtypes)"
   ]
  },
  {
   "cell_type": "code",
   "execution_count": null,
   "metadata": {},
   "outputs": [],
   "source": [
    "fig, ax1 = plt.subplots(figsize=(18, 8))\n",
    "\n",
    "\n",
    "plt.gca().xaxis.set_major_locator(mdates.HourLocator(interval=6))\n",
    "plt.gca().xaxis.set_minor_locator(mdates.HourLocator(interval=3))\n",
    "plt.gca().xaxis.set_major_formatter(mdates.DateFormatter('%d-%m %H'))\n",
    "\n",
    "\n",
    "ax1.plot(df['Time'], df['Air Temperature(°C)'], color='g', linestyle='-',label='Air Temperature')\n",
    "ax1.set_xlabel('Time')\n",
    "ax1.set_ylabel('Temperature (°C)', color='b')\n",
    "ax1.tick_params(axis='y', labelcolor='b')\n",
    "\n",
    "ax1.yaxis.set_major_locator(ticker.MultipleLocator(0.2))  \n",
    "ax1.yaxis.set_minor_locator(ticker.MultipleLocator(0.02))  \n",
    "\n",
    "# Creare un secondo asse y per l'umidità\n",
    "ax2 = ax1.twinx()\n",
    "ax2.plot(df['Time'], df['Relative Humidity(%RH)'], color='r', linestyle='-',label='Rel. Humidity')\n",
    "ax2.set_ylabel('Humidity (%)', color='r')\n",
    "ax2.tick_params(axis='y', labelcolor='r')\n",
    "\n",
    "ax2.yaxis.set_major_locator(ticker.MultipleLocator(1))  \n",
    "ax2.yaxis.set_minor_locator(ticker.MultipleLocator(0.2))  \n",
    "\n",
    "\n",
    "lines1, labels1 = ax1.get_legend_handles_labels()\n",
    "lines2, labels2 = ax2.get_legend_handles_labels()\n",
    "ax2.legend(lines1 + lines2, labels1 + labels2, loc=0)\n",
    "\n",
    "\n",
    "plt.title('Temperature and Humidity Over Time')\n",
    "plt.tight_layout()\n",
    "plt.show()"
   ]
  },
  {
   "cell_type": "code",
   "execution_count": null,
   "metadata": {},
   "outputs": [],
   "source": [
    "plt.figure(figsize=(18, 10))\n",
    "plt.plot(df['Time'], df['TK1 Temperature(°C)'], color='b', linestyle='-',label='1st probe')\n",
    "plt.plot(df['Time'], df['TK2 Temperature(°C)'], color='r', linestyle='-',label='2nd probe')\n",
    "plt.plot(df['Time'], df['Air Temperature(°C)'], color='g', linestyle='-',label='Air Temperature')\n",
    "plt.xlabel('Time')\n",
    "plt.ylabel('Temperature (°C)')\n",
    "plt.title('Temperature Over Time')\n",
    "\n",
    "plt.gca().xaxis.set_major_locator(mdates.HourLocator(interval=6))\n",
    "plt.gca().xaxis.set_minor_locator(mdates.HourLocator(interval=3))\n",
    "plt.gca().xaxis.set_major_formatter(mdates.DateFormatter('%d-%m %H'))\n",
    "\n",
    "# Impostare il locator principale e minore sull'asse y\n",
    "plt.gca().yaxis.set_major_locator(ticker.MultipleLocator(1))  # Tacche principali ogni 1 grado\n",
    "plt.gca().yaxis.set_minor_locator(ticker.MultipleLocator(0.2))  # Tacche minori ogni 0.5 gradi\n",
    "\n",
    "\n",
    "plt.legend()\n",
    "plt.tight_layout()\n",
    "plt.show()"
   ]
  },
  {
   "cell_type": "code",
   "execution_count": null,
   "metadata": {},
   "outputs": [],
   "source": []
  }
 ],
 "metadata": {
  "kernelspec": {
   "display_name": "fisica",
   "language": "python",
   "name": "python3"
  },
  "language_info": {
   "codemirror_mode": {
    "name": "ipython",
    "version": 3
   },
   "file_extension": ".py",
   "mimetype": "text/x-python",
   "name": "python",
   "nbconvert_exporter": "python",
   "pygments_lexer": "ipython3",
   "version": "3.12.4"
  }
 },
 "nbformat": 4,
 "nbformat_minor": 2
}
