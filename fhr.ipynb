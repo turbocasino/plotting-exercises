{
 "cells": [
  {
   "cell_type": "markdown",
   "id": "caeb9cf8-0bab-45cb-ad34-d94cb55fbcde",
   "metadata": {},
   "source": [
    "# Graficare FHR vs VCASB"
   ]
  },
  {
   "cell_type": "code",
   "execution_count": 9,
   "id": "502b5b33-7865-4afc-8233-d7e7252dff00",
   "metadata": {},
   "outputs": [],
   "source": [
    "import os\n",
    "import numpy as np\n",
    "import json"
   ]
  },
  {
   "cell_type": "markdown",
   "id": "a9f34801-ce03-467d-a5aa-6a1ff9a6c401",
   "metadata": {},
   "source": [
    "###### Funzione estrapola vcasb"
   ]
  },
  {
   "cell_type": "code",
   "execution_count": 2,
   "id": "375f664b-cb22-4e41-9662-4a891e763119",
   "metadata": {},
   "outputs": [],
   "source": [
    "def estrai_vcasb(path_json_i):\n",
    "    with open(file_path, 'r', encoding='utf-8') as f:\n",
    "        righe = f.readlines()\n",
    "        vcasb_i = righe[11].strip()\n",
    "        try:\n",
    "                    # Rimuovi la virgola finale e le virgolette\n",
    "                    chiave, valore_i = vcasb_i.replace(\",\", \"\").replace('\"', '').split(\":\")\n",
    "                    valore_i = valore_i.strip()\n",
    "        except ValueError:\n",
    "                    print(f\"Errore nella formattazione della 12 riga di {file}.\")\n"
   ]
  },
  {
   "cell_type": "code",
   "execution_count": 10,
   "id": "cdddd402-ef2b-4adc-b00b-7249564cf6c3",
   "metadata": {},
   "outputs": [],
   "source": [
    "\n",
    "def vcasb(cartella):\n",
    "\n",
    "    files_json = [f for f in os.listdir(cartella) if f.endswith('.json')]  \n",
    "    \n",
    "    vcasbout=[]\n",
    "\n",
    "    for file in files_json:\n",
    "        percorso_file_json = os.path.join(cartella, file)\n",
    "        with open(percorso_file_json, 'r', encoding='utf-8') as f:\n",
    "            json_data = f.read()\n",
    "        dictio = json.loads(json_data)\n",
    "        vcasb_i=dictio[\"vcasb\"]\n",
    "        vcasbout.append(vcasb_i)\n",
    "    return vcasbout "
   ]
  },
  {
   "cell_type": "code",
   "execution_count": null,
   "id": "0d695a58-623c-4eb9-a422-a3d745e390e8",
   "metadata": {},
   "outputs": [],
   "source": [
    "def npy(cartella):\n",
    "\n",
    "    files_npz = [f for f in os.listdir(cartella) if f.endswith('.npz')]\n",
    "    for file in files_npz:\n",
    "        percorso_file_npz = os.path.join(cartella, file)\n",
    "        with open(percorso_file_npz, 'r', encoding='utf-8') as f:\n",
    "            npz_data = f.read()\n",
    "        "
   ]
  },
  {
   "cell_type": "markdown",
   "id": "4d3c10c0-a6ad-4d8b-9583-eb0042b987ea",
   "metadata": {},
   "source": [
    "#### Esecuzione programmi"
   ]
  },
  {
   "cell_type": "code",
   "execution_count": 11,
   "id": "b24a63b6-4c07-4ff6-a469-700728306cac",
   "metadata": {},
   "outputs": [],
   "source": [
    "cartella = r\"C:\\Users\\giono\\Desktop\\UNIVERSITA\\programmazione\\python\\dati\\fhr\""
   ]
  },
  {
   "cell_type": "code",
   "execution_count": 12,
   "id": "711eafdf-6951-443f-a8d9-4d0f3329f073",
   "metadata": {},
   "outputs": [
    {
     "data": {
      "text/plain": [
       "[300, 250.0, 350.0, 400.0, 375.0, 325.0, 387.5, 362.5]"
      ]
     },
     "execution_count": 12,
     "metadata": {},
     "output_type": "execute_result"
    }
   ],
   "source": [
    "vcasbout=vcasb(cartella)\n",
    "vcasbout"
   ]
  },
  {
   "cell_type": "code",
   "execution_count": null,
   "id": "d7888e91-d38f-46b6-b152-3332b6710083",
   "metadata": {},
   "outputs": [],
   "source": [
    "output = os.path.join(cartella, 'plot.txt')\n",
    "f_out = open(output,\"w\")"
   ]
  }
 ],
 "metadata": {
  "kernelspec": {
   "display_name": "Python 3 (ipykernel)",
   "language": "python",
   "name": "python3"
  },
  "language_info": {
   "codemirror_mode": {
    "name": "ipython",
    "version": 3
   },
   "file_extension": ".py",
   "mimetype": "text/x-python",
   "name": "python",
   "nbconvert_exporter": "python",
   "pygments_lexer": "ipython3",
   "version": "3.12.4"
  }
 },
 "nbformat": 4,
 "nbformat_minor": 5
}
